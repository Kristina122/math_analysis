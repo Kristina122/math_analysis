{
 "cells": [
  {
   "cell_type": "code",
   "execution_count": 1,
   "id": "77d8d579",
   "metadata": {},
   "outputs": [],
   "source": [
    "%matplotlib inline\n",
    "\n",
    "import numpy as np\n",
    "import matplotlib.pyplot as plt\n",
    "import itertools\n",
    "\n",
    "from math import factorial"
   ]
  },
  {
   "cell_type": "markdown",
   "id": "e7d76cd6",
   "metadata": {},
   "source": [
    "### Задание № 1"
   ]
  },
  {
   "cell_type": "code",
   "execution_count": 31,
   "id": "3901823f",
   "metadata": {},
   "outputs": [
    {
     "name": "stdout",
     "output_type": "stream",
     "text": [
      "\n",
      "6 red\n",
      "\n",
      "12 red\n",
      "\n",
      "29 black\n",
      "\n",
      "13 red\n",
      "\n",
      "15 red\n"
     ]
    }
   ],
   "source": [
    "for i in range(0, 5):\n",
    "    a = input()\n",
    "    num = np.random.randint(0, 36)\n",
    "    if num==0:\n",
    "        print(\"zero\")\n",
    "    elif 0<num<=18:\n",
    "        print(num, \"red\")\n",
    "    else:\n",
    "        print(num, \"black\")"
   ]
  },
  {
   "cell_type": "markdown",
   "id": "18f4a5ed",
   "metadata": {},
   "source": [
    "### Задание № 2"
   ]
  },
  {
   "cell_type": "code",
   "execution_count": 3,
   "id": "230a382c",
   "metadata": {
    "scrolled": true
   },
   "outputs": [
    {
     "name": "stdout",
     "output_type": "stream",
     "text": [
      "True\n",
      "47 53 100\n"
     ]
    }
   ],
   "source": [
    "### Напишите код, проверяющий любую из теорем сложения или умножения вероятности\n",
    "### на примере рулетки или подбрасывания монетки.\n",
    "\n",
    "k,m,l = 0, 0, 0\n",
    "n = 100\n",
    "\n",
    "for i in range(0, n):\n",
    "    x = np.random.uniform(0, 10)\n",
    "    l = l+1\n",
    "    if x<5:\n",
    "        k = k + 1 \n",
    "    else:\n",
    "        m = m + 1\n",
    "    \n",
    "print((k/n)+(m/n)==(l/n))   \n",
    "print(k,m,l)\n"
   ]
  },
  {
   "cell_type": "code",
   "execution_count": 4,
   "id": "77be83ee",
   "metadata": {},
   "outputs": [
    {
     "data": {
      "text/plain": [
       "Text(0.5, 1.0, 'Histogram')"
      ]
     },
     "execution_count": 4,
     "metadata": {},
     "output_type": "execute_result"
    },
    {
     "data": {
      "image/png": "[encoded data removed]",
      "text/plain": [
       "<Figure size 432x288 with 1 Axes>"
      ]
     },
     "metadata": {
      "needs_background": "light"
     },
     "output_type": "display_data"
    }
   ],
   "source": [
    "### Сгенерируйте десять выборок случайных чисел х0, …, х9.\n",
    "### и постройте гистограмму распределения случайной суммы  +х0+ …+ х 9. \n",
    "\n",
    "allsums=[sum(np.random.rand(10)) for i in range(10)]\n",
    "    \n",
    "n, bins, patches = plt.hist(allsums, 10)\n",
    "plt.xlabel('summa')\n",
    "plt.ylabel('Probability')\n",
    "plt.title('Histogram')"
   ]
  },
  {
   "cell_type": "markdown",
   "id": "79aae29d",
   "metadata": {},
   "source": [
    "### Задание № 3"
   ]
  },
  {
   "cell_type": "code",
   "execution_count": 5,
   "id": "12f3fde2",
   "metadata": {},
   "outputs": [
    {
     "name": "stdout",
     "output_type": "stream",
     "text": [
      "3774 10000 0.3774 0.0\n",
      "0.375\n"
     ]
    }
   ],
   "source": [
    "### Дополните код Монте-Карло последовательности независимых испытаний расчетом соответствующих вероятностей \n",
    "### (через биномиальное распределение) и сравните результаты.\n",
    "\n",
    "k, n = 0, 10000\n",
    "\n",
    "a = np.random.randint(0, 2, n)\n",
    "b = np.random.randint(0, 2, n)\n",
    "c = np.random.randint(0, 2, n)\n",
    "d = np.random.randint(0, 2, n)\n",
    "x = a + b + c + d\n",
    "for i in range(0, n):\n",
    "    if x[i] == 2:\n",
    "        k = k + 1\n",
    "v=(0.5**k)*(0.5**(n-k))\n",
    "\n",
    "c = factorial(4)/(factorial(2)*factorial(4-2))\n",
    "prob=c*(0.5**2)*(0.5**(4-2))\n",
    "\n",
    "\n",
    "print(k, n, k/n,v)\n",
    "print(prob)"
   ]
  },
  {
   "cell_type": "code",
   "execution_count": 6,
   "id": "4bb6b257",
   "metadata": {},
   "outputs": [
    {
     "name": "stdout",
     "output_type": "stream",
     "text": [
      "0.25 \n",
      " 0.25 \n",
      " 0.0625 \n",
      " 0.24609375 \n",
      " 0.07958923738717877\n"
     ]
    }
   ],
   "source": [
    "### Повторите расчеты биномиальных коэффициентов и вероятностей k успехов в последовательности из n независимых испытаний, \n",
    "## взяв другие значения n и k.\n",
    "\n",
    "def combinations(n, k):\n",
    "    return (factorial(n)/(factorial(k)*factorial(n-k)))*(0.5**k)*(0.5**(n-k))\n",
    "\n",
    "\n",
    "print(combinations(4, 3),'\\n',\n",
    "     combinations(4, 1),'\\n',\n",
    "     combinations(4, 4),'\\n',\n",
    "     combinations(10, 5),'\\n',\n",
    "     combinations(100, 50))"
   ]
  },
  {
   "cell_type": "markdown",
   "id": "cba417e6",
   "metadata": {},
   "source": [
    "### Задание № 4"
   ]
  },
  {
   "cell_type": "code",
   "execution_count": 32,
   "id": "1690036c",
   "metadata": {},
   "outputs": [
    {
     "name": "stdout",
     "output_type": "stream",
     "text": [
      "я, н, в\n",
      "я, н, а\n",
      "я, н, р\n",
      "я, н, ь\n",
      "я, в, н\n",
      "я, в, а\n",
      "я, в, р\n",
      "я, в, ь\n",
      "я, а, н\n",
      "я, а, в\n",
      "я, а, р\n",
      "я, а, ь\n",
      "я, р, н\n",
      "я, р, в\n",
      "я, р, а\n",
      "я, р, ь\n",
      "я, ь, н\n",
      "я, ь, в\n",
      "я, ь, а\n",
      "я, ь, р\n",
      "н, я, в\n",
      "н, я, а\n",
      "н, я, р\n",
      "н, я, ь\n",
      "н, в, я\n",
      "н, в, а\n",
      "н, в, р\n",
      "н, в, ь\n",
      "н, а, я\n",
      "н, а, в\n",
      "н, а, р\n",
      "н, а, ь\n",
      "н, р, я\n",
      "н, р, в\n",
      "н, р, а\n",
      "н, р, ь\n",
      "н, ь, я\n",
      "н, ь, в\n",
      "н, ь, а\n",
      "н, ь, р\n",
      "в, я, н\n",
      "в, я, а\n",
      "в, я, р\n",
      "в, я, ь\n",
      "в, н, я\n",
      "в, н, а\n",
      "в, н, р\n",
      "в, н, ь\n",
      "в, а, я\n",
      "в, а, н\n",
      "в, а, р\n",
      "в, а, ь\n",
      "в, р, я\n",
      "в, р, н\n",
      "в, р, а\n",
      "в, р, ь\n",
      "в, ь, я\n",
      "в, ь, н\n",
      "в, ь, а\n",
      "в, ь, р\n",
      "а, я, н\n",
      "а, я, в\n",
      "а, я, р\n",
      "а, я, ь\n",
      "а, н, я\n",
      "а, н, в\n",
      "а, н, р\n",
      "а, н, ь\n",
      "а, в, я\n",
      "а, в, н\n",
      "а, в, р\n",
      "а, в, ь\n",
      "а, р, я\n",
      "а, р, н\n",
      "а, р, в\n",
      "а, р, ь\n",
      "а, ь, я\n",
      "а, ь, н\n",
      "а, ь, в\n",
      "а, ь, р\n",
      "р, я, н\n",
      "р, я, в\n",
      "р, я, а\n",
      "р, я, ь\n",
      "р, н, я\n",
      "р, н, в\n",
      "р, н, а\n",
      "р, н, ь\n",
      "р, в, я\n",
      "р, в, н\n",
      "р, в, а\n",
      "р, в, ь\n",
      "р, а, я\n",
      "р, а, н\n",
      "р, а, в\n",
      "р, а, ь\n",
      "р, ь, я\n",
      "р, ь, н\n",
      "р, ь, в\n",
      "р, ь, а\n",
      "ь, я, н\n",
      "ь, я, в\n",
      "ь, я, а\n",
      "ь, я, р\n",
      "ь, н, я\n",
      "ь, н, в\n",
      "ь, н, а\n",
      "ь, н, р\n",
      "ь, в, я\n",
      "ь, в, н\n",
      "ь, в, а\n",
      "ь, в, р\n",
      "ь, а, я\n",
      "ь, а, н\n",
      "ь, а, в\n",
      "ь, а, р\n",
      "ь, р, я\n",
      "ь, р, н\n",
      "ь, р, в\n",
      "ь, р, а\n",
      "Число размещений = 120.0\n"
     ]
    }
   ],
   "source": [
    "### число размещений\n",
    "n = 'январь'\n",
    "k = 3\n",
    "\n",
    "for p in itertools.permutations(n, k):\n",
    "    print(', '.join(str(x) for x in p))\n",
    "    \n",
    "a = factorial(len(n))/factorial(len(n)-k)\n",
    "print('Число размещений =', a)"
   ]
  },
  {
   "cell_type": "code",
   "execution_count": 26,
   "id": "e26db3c9",
   "metadata": {},
   "outputs": [
    {
     "name": "stdout",
     "output_type": "stream",
     "text": [
      "курица, салат, соус\n",
      "курица, салат, сухарики\n",
      "курица, салат, томат\n",
      "курица, салат, яйцо\n",
      "курица, соус, сухарики\n",
      "курица, соус, томат\n",
      "курица, соус, яйцо\n",
      "курица, сухарики, томат\n",
      "курица, сухарики, яйцо\n",
      "курица, томат, яйцо\n",
      "салат, соус, сухарики\n",
      "салат, соус, томат\n",
      "салат, соус, яйцо\n",
      "салат, сухарики, томат\n",
      "салат, сухарики, яйцо\n",
      "салат, томат, яйцо\n",
      "соус, сухарики, томат\n",
      "соус, сухарики, яйцо\n",
      "соус, томат, яйцо\n",
      "сухарики, томат, яйцо\n",
      "Число сочетаний =  20.0\n"
     ]
    }
   ],
   "source": [
    "### число сочетаний\n",
    "n = ['курица', 'салат', 'соус', 'сухарики', 'томат', 'яйцо']\n",
    "k = 3\n",
    "\n",
    "for p in itertools.combinations(n, k):\n",
    "    print(', '.join(p))\n",
    "    \n",
    "c = factorial(len(n))/(factorial(k)*factorial(len(n)-k))\n",
    "print('Число сочетаний = ', c)"
   ]
  },
  {
   "cell_type": "code",
   "execution_count": 30,
   "id": "63fd264f",
   "metadata": {},
   "outputs": [
    {
     "name": "stdout",
     "output_type": "stream",
     "text": [
      "курица, салат, соус\n",
      "курица, соус, салат\n",
      "салат, курица, соус\n",
      "салат, соус, курица\n",
      "соус, курица, салат\n",
      "соус, салат, курица\n",
      "Число перестановок =  6\n"
     ]
    }
   ],
   "source": [
    "# число перестановок, n == k\n",
    "n = ['курица', 'салат', 'соус']\n",
    "k = len(n)\n",
    "\n",
    "for p in itertools.permutations(n, k):\n",
    "    print(', '.join(str(x) for x in p))\n",
    "    \n",
    "p = factorial(len(n))\n",
    "print('Число перестановок = ', p)"
   ]
  },
  {
   "cell_type": "code",
   "execution_count": null,
   "id": "36f27e9b",
   "metadata": {},
   "outputs": [],
   "source": []
  }
 ],
 "metadata": {
  "kernelspec": {
   "display_name": "Python 3",
   "language": "python",
   "name": "python3"
  },
  "language_info": {
   "codemirror_mode": {
    "name": "ipython",
    "version": 3
   },
   "file_extension": ".py",
   "mimetype": "text/x-python",
   "name": "python",
   "nbconvert_exporter": "python",
   "pygments_lexer": "ipython3",
   "version": "3.9.0"
  }
 },
 "nbformat": 4,
 "nbformat_minor": 5
}
